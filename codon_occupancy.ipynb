{
 "cells": [
  {
   "cell_type": "code",
   "execution_count": 1,
   "id": "fa455879-43a2-4862-9a47-c82feab13bdf",
   "metadata": {},
   "outputs": [],
   "source": [
    "import ribopy\n",
    "from ribopy import Ribo\n",
    "from functions import get_sequence, get_cds_range_lookup\n",
    "import numpy as np\n",
    "import pandas as pd\n",
    "import pickle\n",
    "from collections import defaultdict"
   ]
  },
  {
   "cell_type": "code",
   "execution_count": 2,
   "id": "0fa259a7-9e87-4c8d-97d3-582049db05bd",
   "metadata": {},
   "outputs": [],
   "source": [
    "### Initialize variables\n",
    "\n",
    "## Adjust\n",
    "target_name = 'WT_8-cell_3'\n",
    "ribo_file = 'Rep_8'\n",
    "exp= \"WT_8cell_B8_1_ITP\"\n",
    "alias = False\n",
    "\n",
    "## Files\n",
    "ribo_path = f'/home/reiko/ribopy_analysis/files_analysis_c_elegans/ribo_files/{ribo_file}.ribo'\n",
    "pickle_file_path = f'/home/reiko/ribopy_analysis/files_analysis_c_elegans/results/{target_name}_coverage.pkl'\n",
    "bed_file = '/home/reiko/ribopy_analysis/files_analysis_c_elegans/celegans_reference/appris_celegans_v1_actual_regions_new.bed'\n",
    "reference_path = '/home/reiko/ribopy_analysis/files_analysis_c_elegans/celegans_reference/appris_celegans_v1_selected_new.fa'\n",
    "\n",
    "ribo_object = Ribo(ribo_path)\n",
    "sequence = get_sequence(ribo_object, reference_path)\n",
    "cds_range = get_cds_range_lookup(bed_file)"
   ]
  },
  {
   "cell_type": "code",
   "execution_count": 3,
   "id": "c7826059-ed74-456e-a64a-ee2e7695a50e",
   "metadata": {},
   "outputs": [],
   "source": [
    "# Open the pickle file in binary read mode ('rb')\n",
    "with open(pickle_file_path, 'rb') as f:\n",
    "    coverage_dict = pickle.load(f)"
   ]
  },
  {
   "cell_type": "markdown",
   "id": "75250218-3bdc-4603-8e40-78100fd3402a",
   "metadata": {
    "scrolled": true
   },
   "source": [
    "Find codon occupancy"
   ]
  },
  {
   "cell_type": "code",
   "execution_count": 4,
   "id": "feeec3a1-71e9-4d4d-91b7-8aad37679770",
   "metadata": {},
   "outputs": [],
   "source": [
    "codon_occ = defaultdict(int)\n",
    "\n",
    "for transcript, coverage in coverage_dict.items():\n",
    "    if coverage is not None:\n",
    "        start, stop = cds_range[transcript]\n",
    "        cds_sequence = sequence[transcript][start: stop]\n",
    "\n",
    "        # Iterate over the sequence in steps of 3 (to get each codon)\n",
    "        for i in range(0, len(cds_sequence), 3):\n",
    "            codon = cds_sequence[i: i + 3]\n",
    "            count = sum(coverage[i: i + 3])  # Use coverage directly here\n",
    "            # Increment the count for the codon using defaultdict\n",
    "            codon_occ[codon] += count\n",
    "\n",
    "# Sort codon_occ by keys alphabetically\n",
    "sorted_codon_occ = {k: codon_occ[k] for k in sorted(codon_occ)}\n",
    "\n",
    "# Convert to DataFrame\n",
    "df_codon_occ = pd.DataFrame(list(sorted_codon_occ.items()), columns=['Codon', 'Count'])"
   ]
  },
  {
   "cell_type": "code",
   "execution_count": null,
   "id": "b23f55c3-aecf-4456-ba00-f751376b1c08",
   "metadata": {},
   "outputs": [],
   "source": [
    "# Save DataFrame as .csv file \n",
    "# df_codon_occ.to_csv(f'/home/reiko/ribopy_analysis/files_analysis_c_elegans/results/{target_name}_codon_occ.csv')"
   ]
  },
  {
   "cell_type": "markdown",
   "id": "c5f778e8-284a-4bbb-b8d0-76e175eb90f8",
   "metadata": {},
   "source": [
    "Normalize codon occupancy"
   ]
  },
  {
   "cell_type": "code",
   "execution_count": null,
   "id": "13be2c5d-4363-47b4-8d22-40d03b01d759",
   "metadata": {},
   "outputs": [],
   "source": [
    "df = pd.read_csv(f'/home/reiko/ribopy_analysis/files_analysis_c_elegans/results/codon_occupancy.csv')\n",
    "df = df.drop(columns=['Unnamed: 0'])\n",
    "df.set_index('Codon', inplace=True)"
   ]
  },
  {
   "cell_type": "code",
   "execution_count": null,
   "id": "741d73e5-c7dd-40c9-a18a-453898183dbb",
   "metadata": {},
   "outputs": [],
   "source": [
    "column_sums = df.sum()\n",
    "normalized_df = df.div(column_sums)\n",
    "# normalized_df.to_csv('/home/reiko/ribopy_analysis/files_analysis_c_elegans/results/codon_occupancy_norm.csv')"
   ]
  },
  {
   "cell_type": "markdown",
   "id": "0ad45a19-b0c1-4dd9-a4aa-619bbf6faa8b",
   "metadata": {},
   "source": [
    "Find codon distribution"
   ]
  },
  {
   "cell_type": "code",
   "execution_count": null,
   "id": "2d193e1c-a525-4402-bce0-9141c07b5644",
   "metadata": {},
   "outputs": [],
   "source": [
    "transcriptome_codon_dist = defaultdict(int)\n",
    "\n",
    "for transcript, coverage in coverage_dict.items():\n",
    "    if coverage is not None:\n",
    "        start, stop = cds_range[transcript]\n",
    "        cds_sequence = sequence[transcript][start: stop]\n",
    "\n",
    "        for i in range(0, len(cds_sequence), 3):\n",
    "            codon = cds_sequence[i: i + 3]\n",
    "            transcriptome_codon_dist[codon] += 1\n",
    "\n",
    "sorted_transcriptome_codon_dist = {k: transcriptome_codon_dist[k] for k in sorted(transcriptome_codon_dist)}\n",
    "df_codon_dist = pd.DataFrame(list(sorted_transcriptome_codon_dist.items()), columns=['Codon', 'Count'])"
   ]
  },
  {
   "cell_type": "code",
   "execution_count": null,
   "id": "16a4ebf7-120a-46f3-a644-c1ada5804b67",
   "metadata": {},
   "outputs": [],
   "source": [
    "# Save DataFrame as .csv file\n",
    "df_codon_dist.to_csv('/home/reiko/ribopy_analysis/files_analysis_c_elegans/results/transcriptome_codon_distribution.csv')"
   ]
  }
 ],
 "metadata": {
  "kernelspec": {
   "display_name": "Python 3 (ipykernel)",
   "language": "python",
   "name": "python3"
  },
  "language_info": {
   "codemirror_mode": {
    "name": "ipython",
    "version": 3
   },
   "file_extension": ".py",
   "mimetype": "text/x-python",
   "name": "python",
   "nbconvert_exporter": "python",
   "pygments_lexer": "ipython3",
   "version": "3.10.12"
  }
 },
 "nbformat": 4,
 "nbformat_minor": 5
}
